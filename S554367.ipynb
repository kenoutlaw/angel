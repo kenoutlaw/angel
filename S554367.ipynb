{
 "cells": [
  {
   "cell_type": "markdown",
   "id": "1fe72f0b-3f1f-407c-b668-20f9cb5dfaba",
   "metadata": {},
   "source": [
    "Student Name: Kendall Outlaw"
   ]
  },
  {
   "cell_type": "code",
   "execution_count": 3,
   "id": "e734f89c-08e7-4801-89d9-d664a114a389",
   "metadata": {},
   "outputs": [
    {
     "name": "stdout",
     "output_type": "stream",
     "text": [
      "* \n",
      "* * \n",
      "* * * \n",
      "* * * * \n",
      "              * \n",
      "            * * \n",
      "          * * * \n",
      "        * * * * \n"
     ]
    }
   ],
   "source": [
    "#10. Create a new Jupyter Notebook (the name of the notebook should be your S number). Add a Markdown cell that contains your name. Add a Code cell and write Python that uses loops to draw the following pattern:\n",
    "\n",
    "# number of rows\n",
    "rows = 4\n",
    "for i in range(0, rows):\n",
    "    # nested loop for each column\n",
    "    for j in range(0, i + 1):\n",
    "        # print star\n",
    "        print(\"*\", end=' ')\n",
    "    # new line after each row\n",
    "    print(\"\\r\")\n",
    "\n",
    "\n",
    "# number of rows\n",
    "rows = 4\n",
    "k = 2 * rows + 6\n",
    "for i in range(0, rows):\n",
    "    # process each column\n",
    "    for j in range(0, k):\n",
    "        print(end=\" \")\n",
    "    k = k - 2\n",
    "    for j in range(0, i + 1):\n",
    "        # display star\n",
    "        print(\"* \", end=\"\")\n",
    "    print(\"\")\n",
    "\n",
    "\n",
    "\n",
    "\n",
    "\n"
   ]
  },
  {
   "cell_type": "code",
   "execution_count": null,
   "id": "ba3076a9-189b-4ad1-ade5-dc62b1076301",
   "metadata": {},
   "outputs": [],
   "source": []
  }
 ],
 "metadata": {
  "kernelspec": {
   "display_name": "Python 3",
   "language": "python",
   "name": "python3"
  },
  "language_info": {
   "codemirror_mode": {
    "name": "ipython",
    "version": 3
   },
   "file_extension": ".py",
   "mimetype": "text/x-python",
   "name": "python",
   "nbconvert_exporter": "python",
   "pygments_lexer": "ipython3",
   "version": "3.8.8"
  }
 },
 "nbformat": 4,
 "nbformat_minor": 5
}
