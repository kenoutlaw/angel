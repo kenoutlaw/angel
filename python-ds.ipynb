{
 "cells": [
  {
   "cell_type": "markdown",
   "metadata": {},
   "source": [
    "# Web Mining and Applied NLP (44-620)\n",
    "\n",
    "## Python Notebooks, Basics, and Data Structures\n",
    "\n",
    "### Student Name: Kendall Outlaw\n",
    "\n",
    "Perform the tasks described in the Markdown cells below.  When you have completed the assignment make sure your code cells have all been run (and have output beneath them) and ensure you have committed and pushed ALL of your changes to your assignment repository.\n",
    "\n",
    "Every question that requires you to write code will have a code cell underneath it; you may either write your entire solution in that cell or write it in a python file (`.py`), then import and run the appropriate code to answer the question.\n",
    "\n",
    "Do not use external modules (`math`, etc) for this assignment unless you are explicitly instructed to, though you may use built in python functions (`min`, `max`, etc) as you wish."
   ]
  },
  {
   "cell_type": "markdown",
   "metadata": {},
   "source": [
    "1. Modify the Markdown cell above to put your name after \"Student Name:\"; you will be expected to do this in all assignments presented in this format for this class."
   ]
  },
  {
   "cell_type": "markdown",
   "metadata": {},
   "source": [
    "2. Write code that divides any two numbers, stores the result in a variable, and prints the result with an appropriate label."
   ]
  },
  {
   "cell_type": "code",
   "execution_count": 81,
   "metadata": {},
   "outputs": [
    {
     "name": "stdout",
     "output_type": "stream",
     "text": [
      "The result of 1/5 is 0.2\n"
     ]
    }
   ],
   "source": [
    "#divides any two numbers, stores the result in a variable, and prints the result with an appropriate label.\n",
    "result = 1/5\n",
    "print('The result of 1/5 is', result)"
   ]
  },
  {
   "cell_type": "markdown",
   "metadata": {},
   "source": [
    "3. Using loops (and potentially conditionals), write Python code that prints the factorial of each integer from 1 through 10 (which you can store in a variable if you want). The factorial of an integer is the product of all of the integers of 1 through the number. Print the result with an appropriate label."
   ]
  },
  {
   "cell_type": "code",
   "execution_count": 7,
   "metadata": {},
   "outputs": [
    {
     "name": "stdout",
     "output_type": "stream",
     "text": [
      "The factorial of 7 is 5040\n"
     ]
    }
   ],
   "source": [
    "# Python program to find the factorial of a number provided by the user.\n",
    "\n",
    "# change the value for a different result\n",
    "\n",
    "num = 7\n",
    "\n",
    "# To take input from the user\n",
    "#num = int(input(\"Enter a number: \"))\n",
    "\n",
    "factorial = 1\n",
    "\n",
    "# check if the number is negative, positive or zero\n",
    "if num < 0:\n",
    "   print(\"Sorry, factorial does not exist for negative numbers\")\n",
    "elif num == 0:\n",
    "   print(\"The factorial of 0 is 1\")\n",
    "else:\n",
    "   for i in range(1,num + 1):\n",
    "       factorial = factorial*i\n",
    "   print(\"The factorial of\",num,\"is\",factorial)"
   ]
  },
  {
   "cell_type": "markdown",
   "metadata": {},
   "source": [
    "4. Write a python function that takes a single parameter and calculates and returns the average (mean) of the values in the parameter (which you may assume is iterable).  Show that your function works by printing the result of calling the function on the list in the cell below."
   ]
  },
  {
   "cell_type": "code",
   "execution_count": 69,
   "metadata": {},
   "outputs": [
    {
     "name": "stdout",
     "output_type": "stream",
     "text": [
      "The average is 0.0\n"
     ]
    }
   ],
   "source": [
    "def cal_average(num):\n",
    "    sum_num = 0\n",
    "    for t in num:\n",
    "        sum_num = sum_num + t           \n",
    "\n",
    "    avg = sum_num / len(num)\n",
    "    return avg\n",
    "\n",
    "print(\"The average is\", cal_average([1,-1,2,-2,3,-3,4,-4]))\n"
   ]
  },
  {
   "cell_type": "markdown",
   "metadata": {},
   "source": [
    "5. Using your mean function above, write a function that calculates the variance of the list of numbers (see https://en.wikipedia.org/wiki/Variance for more information on the formula). In short:\n",
    "* subtract the mean of the elements in the list from every element in the list; store these values in a new list\n",
    "* square every element in the new list and sum the elements together\n",
    "* divide the resulting number by N (where N is the length of the original list)\n",
    "\n",
    "Show the result of calling your function in the lists in the code cell. You must use one or more list comprehensions or map/filter in your code.\n"
   ]
  },
  {
   "cell_type": "code",
   "execution_count": 111,
   "metadata": {},
   "outputs": [
    {
     "name": "stdout",
     "output_type": "stream",
     "text": [
      "The average for list1 is -0.3881\n",
      "The average for list2 is 0.64707\n",
      "The variance for list1 is 1.13973309\n",
      "The variance for list2 is 0.9257232841\n",
      "The square of every element in list1 is  [0.32148899999999997, 2.1904, 0.31024900000000005, 2.1609, 0.538756, 1.1025, 0.20070400000000002, 0.066049, 3.8809, 2.1315999999999997]\n",
      "The sum of the numbers squared in list1 is  12.903547\n",
      "The length of list1 is  10\n",
      "The result of dividing the resulting number by N for list1 is  1.2903547\n",
      "The square of every element in list2 is  [3.1684, 0.06969600000000001, 1.3456, 0.8244640000000001, 3.1684, 1.1664, 1.1025, 0.00214369, 2.3104, 0.286225]\n",
      "The sum of the numbers squared in list2 is  13.44422869\n",
      "The length of list2 is  10\n",
      "The result of dividing the resulting number by N for list2 is  1.344422869\n"
     ]
    }
   ],
   "source": [
    "list1 = [ 5.670e-1, -1.480e+0, -5.570e-1, -1.470e+0, 7.340e-1, 1.050e+0, 4.480e-1, 2.570e-1, -1.970e+0, -1.460e+0]\n",
    "list2 = [-1.780e+0, 2.640e-1, 1.160e+0, 9.080e-1, 1.780e+0, 1.080e+0, 1.050e+0, -4.630e-2, 1.520e+0, 5.350e-1]\n",
    "# the variances of both lists should be relatively close to 1 (off by less than .15)\n",
    "\n",
    "def cal_average(num):\n",
    "    sum_num = 0\n",
    "    for t in num:\n",
    "        sum_num = sum_num + t           \n",
    "\n",
    "    avg = sum_num / len(num)\n",
    "    return avg\n",
    "\n",
    "print(\"The average for list1 is\", cal_average([ 5.670e-1, -1.480e+0, -5.570e-1, -1.470e+0, 7.340e-1, 1.050e+0, 4.480e-1, 2.570e-1, -1.970e+0, -1.460e+0]))\n",
    "\n",
    "def cal_average2(num):\n",
    "    sum_num = 0\n",
    "    for t in num:\n",
    "        sum_num = sum_num + t           \n",
    "\n",
    "    avg = sum_num / len(num)\n",
    "    return avg\n",
    "\n",
    "print(\"The average for list2 is\", cal_average2([-1.780e+0, 2.640e-1, 1.160e+0, 9.080e-1, 1.780e+0, 1.080e+0, 1.050e+0, -4.630e-2, 1.520e+0, 5.350e-1]))\n",
    "\n",
    "\n",
    "def cal_variance(num):\n",
    "    avg = sum(list1) / len(list1)\n",
    "    var = sum((x-avg)**2\n",
    "    for x in list1) / len(list1)\n",
    "    return var\n",
    "\n",
    "print(\"The variance for list1 is\", cal_variance([5.670e-1, -1.480e+0, -5.570e-1, -1.470e+0, 7.340e-1, 1.050e+0, 4.480e-1, 2.570e-1, -1.970e+0, -1.460e+0]))\n",
    "\n",
    "\n",
    "def cal_variance2(num):\n",
    "    avg = sum(list2) / len(list2)\n",
    "    var = sum((x-avg)**2\n",
    "    for x in list2) / len(list2)\n",
    "    return var\n",
    "\n",
    "print(\"The variance for list2 is\", cal_variance2([-1.780e+0, 2.640e-1, 1.160e+0, 9.080e-1, 1.780e+0, 1.080e+0, 1.050e+0, -4.630e-2, 1.520e+0, 5.350e-1]))\n",
    "\n",
    "\n",
    "squaring_iterator = map(lambda n: n ** 2, list1)\n",
    "squared_numbers = list(squaring_iterator)\n",
    "sum_numbers = sum(squared_numbers)\n",
    "n = len(list1)\n",
    "div = sum_numbers/n\n",
    "\n",
    "\n",
    "print(\"The square of every element in list1 is \",squared_numbers)\n",
    "print(\"The sum of the numbers squared in list1 is \",sum_numbers)\n",
    "print(\"The length of list1 is \",n)\n",
    "print(\"The result of dividing the resulting number by N for list1 is \",div)\n",
    "\n",
    "\n",
    "\n",
    "\n",
    "\n",
    "\n",
    "squaring_iterator2 = map(lambda n: n ** 2, list2)\n",
    "squared_numbers2 = list(squaring_iterator2)\n",
    "sum_numbers2 = sum(squared_numbers2)\n",
    "n2 = len(list2)\n",
    "div2 = sum_numbers2/n2\n",
    "print(\"The square of every element in list2 is \",squared_numbers2)\n",
    "print(\"The sum of the numbers squared in list2 is \",sum_numbers2)\n",
    "print(\"The length of list2 is \",n2)\n",
    "print(\"The result of dividing the resulting number by N for list2 is \",div2)\n",
    "\n",
    "\n"
   ]
  },
  {
   "cell_type": "markdown",
   "metadata": {},
   "source": [
    "6. Create a list with at least 15 elements in it. Use list slicing to print the following:\n",
    "* The first 5 elements of the list\n",
    "* The last 5 elements of the list\n",
    "* The list reversed (hint, show the entire list with a stride of -1)\n",
    "* Every second element in the list\n",
    "* Every third element in the list (stride of 3)"
   ]
  },
  {
   "cell_type": "code",
   "execution_count": 37,
   "metadata": {},
   "outputs": [
    {
     "name": "stdout",
     "output_type": "stream",
     "text": [
      "['apple', 'banana', 'cherry', 'orange', 'grape']\n",
      "['kiwi', 'grapefruit', 'mandarin', 'nectarine', 'apricot']\n",
      "['apricot', 'nectarine', 'mandarin', 'grapefruit', 'kiwi', 'blueberry', 'raspberry', 'strawberry', 'watermelon', 'lemon', 'grape', 'orange', 'cherry', 'banana', 'apple']\n",
      "['banana', 'orange', 'lemon', 'strawberry', 'blueberry', 'grapefruit', 'nectarine']\n",
      "['cherry', 'lemon', 'raspberry', 'grapefruit', 'apricot']\n"
     ]
    }
   ],
   "source": [
    "fruit = [\"apple\", \"banana\", \"cherry\", \"orange\", \"grape\", \"lemon\", \"watermelon\", \"strawberry\", \"raspberry\", \"blueberry\", \"kiwi\", \"grapefruit\", \"mandarin\", \"nectarine\", \"apricot\"]\n",
    "\n",
    "\n",
    "#The first 5 elements of the list\n",
    "print(fruit[0:5])\n",
    "\n",
    "\n",
    "#The last 5 elements of the list\n",
    "print(fruit[10:15])\n",
    "\n",
    "#The list reversed\n",
    "fruit.reverse()\n",
    "print(fruit) \n",
    "\n",
    "\n",
    "#reverse back to the orginal list\n",
    "#Every second element in the list\n",
    "fruit.reverse()\n",
    "print(fruit[1::2])\n",
    "\n",
    "\n",
    "#Every third element in the list (stride of 3)\n",
    "print(fruit[2::3])\n",
    "\n",
    "\n",
    "\n"
   ]
  },
  {
   "cell_type": "markdown",
   "metadata": {},
   "source": [
    "7. Build a dictionary that contains the following information about this class (with appropriate names as keys):\n",
    "* The name\n",
    "* The course number\n",
    "* The semester/term in which you are taking this course\n",
    "* The number of credit hours this course counts for\n",
    "* A list of the course learning objectives\n",
    "\n",
    "The majority of this information can be found in the syllabus. Print the dictionary."
   ]
  },
  {
   "cell_type": "code",
   "execution_count": 11,
   "metadata": {},
   "outputs": [
    {
     "name": "stdout",
     "output_type": "stream",
     "text": [
      "{'name': 'Web Mining & Applied Natural Language Processing', 'coursenumber': '44-620', 'semester': '3rd', 'numcredithours': 3, 'model': 'Mustang', 'courselearningobjectives': 'L01. Manage Python libraries and packages\\nL02. Interact with Hosted Version Control Systems (e.g. Git and GitHub)\\nL03. Programmatically obtain and transform data from\\nweb-based APIs and HTML pages into a usable form.\\nL04. Describe the steps in a basic Natural Language Processing Pipeline\\nL05. Use preexisting tools and software libraries to perform some Natural Language Processing, such as sentiment analysis.\\nL06. Explain results and conclusions drawn from the visualized information.'}\n"
     ]
    }
   ],
   "source": [
    "thisclass = {\n",
    "  \"name\": \"Web Mining & Applied Natural Language Processing\",\n",
    "  \"coursenumber\": \"44-620\",\n",
    "  \"semester\": \"3rd\",\n",
    "  \"numcredithours\": 3,\n",
    "  \"model\": \"Mustang\",\n",
    "  \"courselearningobjectives\": \"L01. Manage Python libraries and packages\\nL02. Interact with Hosted Version Control Systems (e.g. Git and GitHub)\\nL03. Programmatically obtain and transform data from\\nweb-based APIs and HTML pages into a usable form.\\nL04. Describe the steps in a basic Natural Language Processing Pipeline\\nL05. Use preexisting tools and software libraries to perform some Natural Language Processing, such as sentiment analysis.\\nL06. Explain results and conclusions drawn from the visualized information.\"\n",
    "}\n",
    "\n",
    "print(thisclass)\n",
    "\n",
    "\n"
   ]
  },
  {
   "cell_type": "markdown",
   "metadata": {},
   "source": [
    "8.  Given the dictionary defined in the code cell below, print the list of level 3 spells the character has."
   ]
  },
  {
   "cell_type": "code",
   "execution_count": 47,
   "metadata": {},
   "outputs": [
    {
     "name": "stdout",
     "output_type": "stream",
     "text": [
      "['Mass Healing Word', 'Nondetection', 'Revivify', 'Feign Death', 'Speak with Dead']\n"
     ]
    }
   ],
   "source": [
    "player_character = {'name': 'Kitab',\n",
    "                   'class': [('Cleric: Knowledge', 7)],\n",
    "                   'spells': {'cantrip': ['Guidance', 'Light', 'Thaumaturgy', 'Toll the Dead', 'Word of Radiance'],\n",
    "                             'level 1': ['Command', 'Detect Magic', 'Healing Word', 'Identify', 'Sleep'],\n",
    "                             'level 2': ['Augury', 'Calm Emotions', 'Command', 'Invisibility', 'Lesser Restoration'],\n",
    "                             'level 3': ['Mass Healing Word', 'Nondetection', 'Revivify', 'Feign Death', 'Speak with Dead'],\n",
    "                             'level 4': ['Banishment', 'Confusion']}\n",
    "                   }\n",
    "\n",
    "#print the list of level 3 spells the character has\n",
    "print(player_character[\"spells\"][\"level 3\"])\n",
    "\n",
    "\n",
    "\n",
    "\n"
   ]
  },
  {
   "cell_type": "markdown",
   "metadata": {},
   "source": [
    "9. Write code to determine the number of unique elements in the list below.  You MUST use a set in finding your solution.  Print the number of unique values in the list with an appropriate label."
   ]
  },
  {
   "cell_type": "code",
   "execution_count": 13,
   "metadata": {},
   "outputs": [
    {
     "name": "stdout",
     "output_type": "stream",
     "text": [
      "{0, 1, 5, 6, 7, 8, 9, 10, 11, 12, 13, 15}\n"
     ]
    }
   ],
   "source": [
    "values = [10, 11, 10, 8, 1, 12, 0, 1, 6, 5, 5, 13, 6, 15, 0, 0, 1, 1, 9, 7]\n",
    "\n",
    "thesevalues = {10, 11, 10, 8, 1, 12, 0, 1, 6, 5, 5, 13, 6, 15, 0, 0, 1, 1, 9, 7}\n",
    "\n",
    "theseuniquevalues  = thesevalues.union(thesevalues)\n",
    "print(theseuniquevalues)\n",
    "\n",
    "\n",
    "\n",
    "\n"
   ]
  },
  {
   "cell_type": "markdown",
   "metadata": {},
   "source": [
    "10. Create a new Jupyter Notebook (the name of the notebook should be your S number). Add a Markdown cell that contains your name. Add a Code cell and write Python that uses loops to draw the following pattern:\n",
    "\n",
    "```\n",
    "*      *\n",
    "**    **\n",
    "***  ***\n",
    "********\n",
    "```\n",
    "Make sure to add and submit both the new notebook and the changes to this notebook for this assignment."
   ]
  }
 ],
 "metadata": {
  "kernelspec": {
   "display_name": "Python 3",
   "language": "python",
   "name": "python3"
  },
  "language_info": {
   "codemirror_mode": {
    "name": "ipython",
    "version": 3
   },
   "file_extension": ".py",
   "mimetype": "text/x-python",
   "name": "python",
   "nbconvert_exporter": "python",
   "pygments_lexer": "ipython3",
   "version": "3.8.8"
  }
 },
 "nbformat": 4,
 "nbformat_minor": 4
}
